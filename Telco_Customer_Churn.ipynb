{
 "cells": [
  {
   "cell_type": "markdown",
   "metadata": {},
   "source": [
    "<h3>Business Problem</h3>\n",
    "<p>We build a model to <b>predict how likely a customer will churn in telecommunication company</b> by analyzing its characteristics:\n",
    "    <li>1. Demographic Information</li>\n",
    "    <li>2. Account Information</li>\n",
    "    <li>3. Services Information</li></p>\n",
    "<h4>The Objective</h4>\n",
    "<p>To obtain a <b>data-drive solution</b> that will allow us to <b>reduce churn rates</b> and as a consequence, to <b>increase customer satisfaction and corportation revenue</b>.</p>"
   ]
  },
  {
   "cell_type": "code",
   "execution_count": 85,
   "metadata": {},
   "outputs": [],
   "source": [
    "import pandas as pd\n",
    "import numpy as np\n",
    "import matplotlib.pyplot as plt\n",
    "import math\n",
    "\n",
    "from sklearn import model_selection\n",
    "from sklearn.model_selection import train_test_split\n",
    "from sklearn.model_selection import RandomizedSearchCV\n",
    "from sklearn.linear_model import LogisticRegression\n",
    "from sklearn.neighbors import KNeighborsClassifier\n",
    "from sklearn.svm import SVC\n",
    "from sklearn.ensemble import RandomForestClassifier\n",
    "from sklearn.ensemble import GradientBoostingClassifier\n",
    "from sklearn.metrics import accuracy_score\n",
    "from sklearn.metrics import confusion_matrix\n",
    "from sklearn.metrics import classification_report\n",
    "from sklearn.metrics import mutual_info_score"
   ]
  },
  {
   "cell_type": "markdown",
   "metadata": {},
   "source": [
    "<h3>Data Reading</h3>\n",
    "<p>The first step of the analysis consists of <b>reading and storing the data</b> in a Pandas data frame using the pandas.read_csv function.</p>"
   ]
  },
  {
   "cell_type": "code",
   "execution_count": 2,
   "metadata": {},
   "outputs": [
    {
     "data": {
      "text/plain": [
       "Index(['customerID', 'gender', 'SeniorCitizen', 'Partner', 'Dependents',\n",
       "       'tenure', 'PhoneService', 'MultipleLines', 'InternetService',\n",
       "       'OnlineSecurity', 'OnlineBackup', 'DeviceProtection', 'TechSupport',\n",
       "       'StreamingTV', 'StreamingMovies', 'Contract', 'PaperlessBilling',\n",
       "       'PaymentMethod', 'MonthlyCharges', 'TotalCharges', 'Churn'],\n",
       "      dtype='object')"
      ]
     },
     "execution_count": 2,
     "metadata": {},
     "output_type": "execute_result"
    }
   ],
   "source": [
    "# import telecom dataset into a pandas data frame\n",
    "df_telco = pd.read_csv('telco_churn.csv')\n",
    "\n",
    "# visualize column names\n",
    "df_telco.columns"
   ]
  },
  {
   "cell_type": "code",
   "execution_count": 3,
   "metadata": {},
   "outputs": [
    {
     "name": "stdout",
     "output_type": "stream",
     "text": [
      "Column: customerID - Unique Values: ['7590-VHVEG' '5575-GNVDE' '3668-QPYBK' ... '4801-JZAZL' '8361-LTMKD'\n",
      " '3186-AJIEK']\n",
      "Column: gender - Unique Values: ['Female' 'Male']\n",
      "Column: SeniorCitizen - Unique Values: [0 1]\n",
      "Column: Partner - Unique Values: ['Yes' 'No']\n",
      "Column: Dependents - Unique Values: ['No' 'Yes']\n",
      "Column: tenure - Unique Values: [ 1 34  2 45  8 22 10 28 62 13 16 58 49 25 69 52 71 21 12 30 47 72 17 27\n",
      "  5 46 11 70 63 43 15 60 18 66  9  3 31 50 64 56  7 42 35 48 29 65 38 68\n",
      " 32 55 37 36 41  6  4 33 67 23 57 61 14 20 53 40 59 24 44 19 54 51 26  0\n",
      " 39]\n",
      "Column: PhoneService - Unique Values: ['No' 'Yes']\n",
      "Column: MultipleLines - Unique Values: ['No phone service' 'No' 'Yes']\n",
      "Column: InternetService - Unique Values: ['DSL' 'Fiber optic' 'No']\n",
      "Column: OnlineSecurity - Unique Values: ['No' 'Yes' 'No internet service']\n",
      "Column: OnlineBackup - Unique Values: ['Yes' 'No' 'No internet service']\n",
      "Column: DeviceProtection - Unique Values: ['No' 'Yes' 'No internet service']\n",
      "Column: TechSupport - Unique Values: ['No' 'Yes' 'No internet service']\n",
      "Column: StreamingTV - Unique Values: ['No' 'Yes' 'No internet service']\n",
      "Column: StreamingMovies - Unique Values: ['No' 'Yes' 'No internet service']\n",
      "Column: Contract - Unique Values: ['Month-to-month' 'One year' 'Two year']\n",
      "Column: PaperlessBilling - Unique Values: ['Yes' 'No']\n",
      "Column: PaymentMethod - Unique Values: ['Electronic check' 'Mailed check' 'Bank transfer (automatic)'\n",
      " 'Credit card (automatic)']\n",
      "Column: MonthlyCharges - Unique Values: [29.85 56.95 53.85 ... 63.1  44.2  78.7 ]\n",
      "Column: TotalCharges - Unique Values: ['29.85' '1889.5' '108.15' ... '346.45' '306.6' '6844.5']\n",
      "Column: Churn - Unique Values: ['No' 'Yes']\n"
     ]
    }
   ],
   "source": [
    "# check for unique values of each column\n",
    "for column in df_telco.columns:\n",
    "    print('Column: {} - Unique Values: {}'.format(column, df_telco[column].unique()))"
   ]
  },
  {
   "cell_type": "markdown",
   "metadata": {},
   "source": [
    "<p>As shown above, the telco data set contains <b>19 independent variables</b>, which can be classified into 3 groups:</p>\n",
    "\n",
    "<b>Demographic Information</b>\n",
    "<li>gender : Whether the client is a female or a male(Female, Male).</li>\n",
    "<li>SeniorCitizen : Whether the client is a senior citizen or not.(0, 1).</li>\n",
    "<li>Partner : Whether the client has a partner or not(Yes, No)</li>\n",
    "<li>Dependents : Whether the client has dependents or not(Yes, No).</li>\n",
    "\n",
    "<b>Customer Account Information</b>\n",
    "<li>tenure : Number of months the customer has stayed with the company.</li>\n",
    "<li>Contract : Indicates the customer's current contract type(Month-to-Month, One year, Two year).</li>\n",
    "<li>PaperlessBilling : Whether the client has paperless billing or not(Yes, No).</li>\n",
    "<li>PaymentMethod : The customer's payment method (Electronic Check, Mailed Check, Bank Transfer, Credit Card).</li>\n",
    "<li>MonthlyCharges : The amount charged to the customer monthly.</li>\n",
    "<li>TotalCharges : The total amount charged to the customer.</li>\n",
    "\n",
    "<b>Services Information</b>\n",
    "<li>PhoneService : Whether the client has a phone service or not(Yes, No).</li>\n",
    "<li>MultipleLines : Whether the client has multiple lines or not(No phone service, No, Yes).</li>\n",
    "<li>InternetServices : Whether the client has is subscribed to Internet service with the company(DSL, Fiber optic, No).</li>\n",
    "<li>OnlineSecurity : Whether the client has online security or not(No internet service, No, Yes).</li>\n",
    "<li>OnlineBackup : Whether the client has online backup or not(No internet service, No, Yes).</li>\n",
    "<li>DeviceProtection : Whether the client has device protection or not(No internet service, No, Yes).</li>\n",
    "<li>TechSupport : Whether the client has tech support or not(No internet service, No, Yes).</li>\n",
    "<li>StreamingTV : Whether the client has streaming TV or not(No internet service, No, Yes).</li>\n",
    "<li>StreamingMovies : Whether the client has streaming movies or not(No internet service, No, Yes).</li>"
   ]
  },
  {
   "cell_type": "markdown",
   "metadata": {},
   "source": [
    "<h3>Exploratory Data Analysis and Data Cleaning</h3>\n",
    "<p><b>EDA</b> consists of analyzing the main characteristics of a dataset usually by means of <b>visualization methods</b> and <b>summary statistics</b>. The objective is to understand the data, discover patterns and anomalies, and check assumptions before performing further evaluations.<p>\n",
    "    \n",
    "<h4>Missing Values and Data types</h4>    \n",
    "<p>At the beginning of EDA, we want to know as much info as possible about the data, this is when the pandas.DataFrame.info method comes in handy. This method prints a <b>concise summary of the data frame</b>, including the column names and their data types, the number of non-null values, and the amount of memory used by the data frame.</p>"
   ]
  },
  {
   "cell_type": "code",
   "execution_count": 4,
   "metadata": {},
   "outputs": [
    {
     "name": "stdout",
     "output_type": "stream",
     "text": [
      "<class 'pandas.core.frame.DataFrame'>\n",
      "RangeIndex: 7043 entries, 0 to 7042\n",
      "Data columns (total 21 columns):\n",
      " #   Column            Non-Null Count  Dtype  \n",
      "---  ------            --------------  -----  \n",
      " 0   customerID        7043 non-null   object \n",
      " 1   gender            7043 non-null   object \n",
      " 2   SeniorCitizen     7043 non-null   int64  \n",
      " 3   Partner           7043 non-null   object \n",
      " 4   Dependents        7043 non-null   object \n",
      " 5   tenure            7043 non-null   int64  \n",
      " 6   PhoneService      7043 non-null   object \n",
      " 7   MultipleLines     7043 non-null   object \n",
      " 8   InternetService   7043 non-null   object \n",
      " 9   OnlineSecurity    7043 non-null   object \n",
      " 10  OnlineBackup      7043 non-null   object \n",
      " 11  DeviceProtection  7043 non-null   object \n",
      " 12  TechSupport       7043 non-null   object \n",
      " 13  StreamingTV       7043 non-null   object \n",
      " 14  StreamingMovies   7043 non-null   object \n",
      " 15  Contract          7043 non-null   object \n",
      " 16  PaperlessBilling  7043 non-null   object \n",
      " 17  PaymentMethod     7043 non-null   object \n",
      " 18  MonthlyCharges    7043 non-null   float64\n",
      " 19  TotalCharges      7043 non-null   object \n",
      " 20  Churn             7043 non-null   object \n",
      "dtypes: float64(1), int64(2), object(18)\n",
      "memory usage: 1.1+ MB\n"
     ]
    }
   ],
   "source": [
    "# summary of the data frame\n",
    "df_telco.info()"
   ]
  },
  {
   "cell_type": "markdown",
   "metadata": {},
   "source": [
    "<p>As we can see above, the dataset contains <b>7043 observations</b> and <b>21 columns</b>. Apparently there are no null values on the dataset, however, we observe that the column TotalCharges was <b>wrognly detected as an object</b>. This column represents the total amount charged to the customer and it is therefore, a numeric variable. For further analysis, we need to transform this column into a <b>numeric data type</b>.</p>"
   ]
  },
  {
   "cell_type": "code",
   "execution_count": 5,
   "metadata": {},
   "outputs": [],
   "source": [
    "# Transform the column TotalCharges into a numeric data type\n",
    "df_telco['TotalCharges'] = pd.to_numeric(df_telco['TotalCharges'], errors='coerce')"
   ]
  },
  {
   "cell_type": "code",
   "execution_count": 6,
   "metadata": {},
   "outputs": [
    {
     "data": {
      "text/html": [
       "<div>\n",
       "<style scoped>\n",
       "    .dataframe tbody tr th:only-of-type {\n",
       "        vertical-align: middle;\n",
       "    }\n",
       "\n",
       "    .dataframe tbody tr th {\n",
       "        vertical-align: top;\n",
       "    }\n",
       "\n",
       "    .dataframe thead th {\n",
       "        text-align: right;\n",
       "    }\n",
       "</style>\n",
       "<table border=\"1\" class=\"dataframe\">\n",
       "  <thead>\n",
       "    <tr style=\"text-align: right;\">\n",
       "      <th></th>\n",
       "      <th>customerID</th>\n",
       "      <th>gender</th>\n",
       "      <th>SeniorCitizen</th>\n",
       "      <th>Partner</th>\n",
       "      <th>Dependents</th>\n",
       "      <th>tenure</th>\n",
       "      <th>PhoneService</th>\n",
       "      <th>MultipleLines</th>\n",
       "      <th>InternetService</th>\n",
       "      <th>OnlineSecurity</th>\n",
       "      <th>...</th>\n",
       "      <th>DeviceProtection</th>\n",
       "      <th>TechSupport</th>\n",
       "      <th>StreamingTV</th>\n",
       "      <th>StreamingMovies</th>\n",
       "      <th>Contract</th>\n",
       "      <th>PaperlessBilling</th>\n",
       "      <th>PaymentMethod</th>\n",
       "      <th>MonthlyCharges</th>\n",
       "      <th>TotalCharges</th>\n",
       "      <th>Churn</th>\n",
       "    </tr>\n",
       "  </thead>\n",
       "  <tbody>\n",
       "    <tr>\n",
       "      <th>488</th>\n",
       "      <td>4472-LVYGI</td>\n",
       "      <td>Female</td>\n",
       "      <td>0</td>\n",
       "      <td>Yes</td>\n",
       "      <td>Yes</td>\n",
       "      <td>0</td>\n",
       "      <td>No</td>\n",
       "      <td>No phone service</td>\n",
       "      <td>DSL</td>\n",
       "      <td>Yes</td>\n",
       "      <td>...</td>\n",
       "      <td>Yes</td>\n",
       "      <td>Yes</td>\n",
       "      <td>Yes</td>\n",
       "      <td>No</td>\n",
       "      <td>Two year</td>\n",
       "      <td>Yes</td>\n",
       "      <td>Bank transfer (automatic)</td>\n",
       "      <td>52.55</td>\n",
       "      <td>NaN</td>\n",
       "      <td>No</td>\n",
       "    </tr>\n",
       "    <tr>\n",
       "      <th>753</th>\n",
       "      <td>3115-CZMZD</td>\n",
       "      <td>Male</td>\n",
       "      <td>0</td>\n",
       "      <td>No</td>\n",
       "      <td>Yes</td>\n",
       "      <td>0</td>\n",
       "      <td>Yes</td>\n",
       "      <td>No</td>\n",
       "      <td>No</td>\n",
       "      <td>No internet service</td>\n",
       "      <td>...</td>\n",
       "      <td>No internet service</td>\n",
       "      <td>No internet service</td>\n",
       "      <td>No internet service</td>\n",
       "      <td>No internet service</td>\n",
       "      <td>Two year</td>\n",
       "      <td>No</td>\n",
       "      <td>Mailed check</td>\n",
       "      <td>20.25</td>\n",
       "      <td>NaN</td>\n",
       "      <td>No</td>\n",
       "    </tr>\n",
       "    <tr>\n",
       "      <th>936</th>\n",
       "      <td>5709-LVOEQ</td>\n",
       "      <td>Female</td>\n",
       "      <td>0</td>\n",
       "      <td>Yes</td>\n",
       "      <td>Yes</td>\n",
       "      <td>0</td>\n",
       "      <td>Yes</td>\n",
       "      <td>No</td>\n",
       "      <td>DSL</td>\n",
       "      <td>Yes</td>\n",
       "      <td>...</td>\n",
       "      <td>Yes</td>\n",
       "      <td>No</td>\n",
       "      <td>Yes</td>\n",
       "      <td>Yes</td>\n",
       "      <td>Two year</td>\n",
       "      <td>No</td>\n",
       "      <td>Mailed check</td>\n",
       "      <td>80.85</td>\n",
       "      <td>NaN</td>\n",
       "      <td>No</td>\n",
       "    </tr>\n",
       "    <tr>\n",
       "      <th>1082</th>\n",
       "      <td>4367-NUYAO</td>\n",
       "      <td>Male</td>\n",
       "      <td>0</td>\n",
       "      <td>Yes</td>\n",
       "      <td>Yes</td>\n",
       "      <td>0</td>\n",
       "      <td>Yes</td>\n",
       "      <td>Yes</td>\n",
       "      <td>No</td>\n",
       "      <td>No internet service</td>\n",
       "      <td>...</td>\n",
       "      <td>No internet service</td>\n",
       "      <td>No internet service</td>\n",
       "      <td>No internet service</td>\n",
       "      <td>No internet service</td>\n",
       "      <td>Two year</td>\n",
       "      <td>No</td>\n",
       "      <td>Mailed check</td>\n",
       "      <td>25.75</td>\n",
       "      <td>NaN</td>\n",
       "      <td>No</td>\n",
       "    </tr>\n",
       "    <tr>\n",
       "      <th>1340</th>\n",
       "      <td>1371-DWPAZ</td>\n",
       "      <td>Female</td>\n",
       "      <td>0</td>\n",
       "      <td>Yes</td>\n",
       "      <td>Yes</td>\n",
       "      <td>0</td>\n",
       "      <td>No</td>\n",
       "      <td>No phone service</td>\n",
       "      <td>DSL</td>\n",
       "      <td>Yes</td>\n",
       "      <td>...</td>\n",
       "      <td>Yes</td>\n",
       "      <td>Yes</td>\n",
       "      <td>Yes</td>\n",
       "      <td>No</td>\n",
       "      <td>Two year</td>\n",
       "      <td>No</td>\n",
       "      <td>Credit card (automatic)</td>\n",
       "      <td>56.05</td>\n",
       "      <td>NaN</td>\n",
       "      <td>No</td>\n",
       "    </tr>\n",
       "    <tr>\n",
       "      <th>3331</th>\n",
       "      <td>7644-OMVMY</td>\n",
       "      <td>Male</td>\n",
       "      <td>0</td>\n",
       "      <td>Yes</td>\n",
       "      <td>Yes</td>\n",
       "      <td>0</td>\n",
       "      <td>Yes</td>\n",
       "      <td>No</td>\n",
       "      <td>No</td>\n",
       "      <td>No internet service</td>\n",
       "      <td>...</td>\n",
       "      <td>No internet service</td>\n",
       "      <td>No internet service</td>\n",
       "      <td>No internet service</td>\n",
       "      <td>No internet service</td>\n",
       "      <td>Two year</td>\n",
       "      <td>No</td>\n",
       "      <td>Mailed check</td>\n",
       "      <td>19.85</td>\n",
       "      <td>NaN</td>\n",
       "      <td>No</td>\n",
       "    </tr>\n",
       "    <tr>\n",
       "      <th>3826</th>\n",
       "      <td>3213-VVOLG</td>\n",
       "      <td>Male</td>\n",
       "      <td>0</td>\n",
       "      <td>Yes</td>\n",
       "      <td>Yes</td>\n",
       "      <td>0</td>\n",
       "      <td>Yes</td>\n",
       "      <td>Yes</td>\n",
       "      <td>No</td>\n",
       "      <td>No internet service</td>\n",
       "      <td>...</td>\n",
       "      <td>No internet service</td>\n",
       "      <td>No internet service</td>\n",
       "      <td>No internet service</td>\n",
       "      <td>No internet service</td>\n",
       "      <td>Two year</td>\n",
       "      <td>No</td>\n",
       "      <td>Mailed check</td>\n",
       "      <td>25.35</td>\n",
       "      <td>NaN</td>\n",
       "      <td>No</td>\n",
       "    </tr>\n",
       "    <tr>\n",
       "      <th>4380</th>\n",
       "      <td>2520-SGTTA</td>\n",
       "      <td>Female</td>\n",
       "      <td>0</td>\n",
       "      <td>Yes</td>\n",
       "      <td>Yes</td>\n",
       "      <td>0</td>\n",
       "      <td>Yes</td>\n",
       "      <td>No</td>\n",
       "      <td>No</td>\n",
       "      <td>No internet service</td>\n",
       "      <td>...</td>\n",
       "      <td>No internet service</td>\n",
       "      <td>No internet service</td>\n",
       "      <td>No internet service</td>\n",
       "      <td>No internet service</td>\n",
       "      <td>Two year</td>\n",
       "      <td>No</td>\n",
       "      <td>Mailed check</td>\n",
       "      <td>20.00</td>\n",
       "      <td>NaN</td>\n",
       "      <td>No</td>\n",
       "    </tr>\n",
       "    <tr>\n",
       "      <th>5218</th>\n",
       "      <td>2923-ARZLG</td>\n",
       "      <td>Male</td>\n",
       "      <td>0</td>\n",
       "      <td>Yes</td>\n",
       "      <td>Yes</td>\n",
       "      <td>0</td>\n",
       "      <td>Yes</td>\n",
       "      <td>No</td>\n",
       "      <td>No</td>\n",
       "      <td>No internet service</td>\n",
       "      <td>...</td>\n",
       "      <td>No internet service</td>\n",
       "      <td>No internet service</td>\n",
       "      <td>No internet service</td>\n",
       "      <td>No internet service</td>\n",
       "      <td>One year</td>\n",
       "      <td>Yes</td>\n",
       "      <td>Mailed check</td>\n",
       "      <td>19.70</td>\n",
       "      <td>NaN</td>\n",
       "      <td>No</td>\n",
       "    </tr>\n",
       "    <tr>\n",
       "      <th>6670</th>\n",
       "      <td>4075-WKNIU</td>\n",
       "      <td>Female</td>\n",
       "      <td>0</td>\n",
       "      <td>Yes</td>\n",
       "      <td>Yes</td>\n",
       "      <td>0</td>\n",
       "      <td>Yes</td>\n",
       "      <td>Yes</td>\n",
       "      <td>DSL</td>\n",
       "      <td>No</td>\n",
       "      <td>...</td>\n",
       "      <td>Yes</td>\n",
       "      <td>Yes</td>\n",
       "      <td>Yes</td>\n",
       "      <td>No</td>\n",
       "      <td>Two year</td>\n",
       "      <td>No</td>\n",
       "      <td>Mailed check</td>\n",
       "      <td>73.35</td>\n",
       "      <td>NaN</td>\n",
       "      <td>No</td>\n",
       "    </tr>\n",
       "    <tr>\n",
       "      <th>6754</th>\n",
       "      <td>2775-SEFEE</td>\n",
       "      <td>Male</td>\n",
       "      <td>0</td>\n",
       "      <td>No</td>\n",
       "      <td>Yes</td>\n",
       "      <td>0</td>\n",
       "      <td>Yes</td>\n",
       "      <td>Yes</td>\n",
       "      <td>DSL</td>\n",
       "      <td>Yes</td>\n",
       "      <td>...</td>\n",
       "      <td>No</td>\n",
       "      <td>Yes</td>\n",
       "      <td>No</td>\n",
       "      <td>No</td>\n",
       "      <td>Two year</td>\n",
       "      <td>Yes</td>\n",
       "      <td>Bank transfer (automatic)</td>\n",
       "      <td>61.90</td>\n",
       "      <td>NaN</td>\n",
       "      <td>No</td>\n",
       "    </tr>\n",
       "  </tbody>\n",
       "</table>\n",
       "<p>11 rows × 21 columns</p>\n",
       "</div>"
      ],
      "text/plain": [
       "      customerID  gender  SeniorCitizen Partner Dependents  tenure  \\\n",
       "488   4472-LVYGI  Female              0     Yes        Yes       0   \n",
       "753   3115-CZMZD    Male              0      No        Yes       0   \n",
       "936   5709-LVOEQ  Female              0     Yes        Yes       0   \n",
       "1082  4367-NUYAO    Male              0     Yes        Yes       0   \n",
       "1340  1371-DWPAZ  Female              0     Yes        Yes       0   \n",
       "3331  7644-OMVMY    Male              0     Yes        Yes       0   \n",
       "3826  3213-VVOLG    Male              0     Yes        Yes       0   \n",
       "4380  2520-SGTTA  Female              0     Yes        Yes       0   \n",
       "5218  2923-ARZLG    Male              0     Yes        Yes       0   \n",
       "6670  4075-WKNIU  Female              0     Yes        Yes       0   \n",
       "6754  2775-SEFEE    Male              0      No        Yes       0   \n",
       "\n",
       "     PhoneService     MultipleLines InternetService       OnlineSecurity  ...  \\\n",
       "488            No  No phone service             DSL                  Yes  ...   \n",
       "753           Yes                No              No  No internet service  ...   \n",
       "936           Yes                No             DSL                  Yes  ...   \n",
       "1082          Yes               Yes              No  No internet service  ...   \n",
       "1340           No  No phone service             DSL                  Yes  ...   \n",
       "3331          Yes                No              No  No internet service  ...   \n",
       "3826          Yes               Yes              No  No internet service  ...   \n",
       "4380          Yes                No              No  No internet service  ...   \n",
       "5218          Yes                No              No  No internet service  ...   \n",
       "6670          Yes               Yes             DSL                   No  ...   \n",
       "6754          Yes               Yes             DSL                  Yes  ...   \n",
       "\n",
       "         DeviceProtection          TechSupport          StreamingTV  \\\n",
       "488                   Yes                  Yes                  Yes   \n",
       "753   No internet service  No internet service  No internet service   \n",
       "936                   Yes                   No                  Yes   \n",
       "1082  No internet service  No internet service  No internet service   \n",
       "1340                  Yes                  Yes                  Yes   \n",
       "3331  No internet service  No internet service  No internet service   \n",
       "3826  No internet service  No internet service  No internet service   \n",
       "4380  No internet service  No internet service  No internet service   \n",
       "5218  No internet service  No internet service  No internet service   \n",
       "6670                  Yes                  Yes                  Yes   \n",
       "6754                   No                  Yes                   No   \n",
       "\n",
       "          StreamingMovies  Contract PaperlessBilling  \\\n",
       "488                    No  Two year              Yes   \n",
       "753   No internet service  Two year               No   \n",
       "936                   Yes  Two year               No   \n",
       "1082  No internet service  Two year               No   \n",
       "1340                   No  Two year               No   \n",
       "3331  No internet service  Two year               No   \n",
       "3826  No internet service  Two year               No   \n",
       "4380  No internet service  Two year               No   \n",
       "5218  No internet service  One year              Yes   \n",
       "6670                   No  Two year               No   \n",
       "6754                   No  Two year              Yes   \n",
       "\n",
       "                  PaymentMethod MonthlyCharges  TotalCharges  Churn  \n",
       "488   Bank transfer (automatic)          52.55           NaN     No  \n",
       "753                Mailed check          20.25           NaN     No  \n",
       "936                Mailed check          80.85           NaN     No  \n",
       "1082               Mailed check          25.75           NaN     No  \n",
       "1340    Credit card (automatic)          56.05           NaN     No  \n",
       "3331               Mailed check          19.85           NaN     No  \n",
       "3826               Mailed check          25.35           NaN     No  \n",
       "4380               Mailed check          20.00           NaN     No  \n",
       "5218               Mailed check          19.70           NaN     No  \n",
       "6670               Mailed check          73.35           NaN     No  \n",
       "6754  Bank transfer (automatic)          61.90           NaN     No  \n",
       "\n",
       "[11 rows x 21 columns]"
      ]
     },
     "execution_count": 6,
     "metadata": {},
     "output_type": "execute_result"
    }
   ],
   "source": [
    "# null observations of the TotalCharges Column\n",
    "df_telco[df_telco['TotalCharges'].isnull()]"
   ]
  },
  {
   "cell_type": "markdown",
   "metadata": {},
   "source": [
    "<p>We can observe that the column <b>TotalCharges has 11 missing values</b>. But these observations have also tenure of 0, even though MonthlyCharges is not null. This <b>information appeared to be contradictory, and therefore, we decide to remove those observations from the data set</b>.</p>"
   ]
  },
  {
   "cell_type": "code",
   "execution_count": 7,
   "metadata": {},
   "outputs": [],
   "source": [
    "# drop observations with null values\n",
    "df_telco.dropna(inplace=True)"
   ]
  },
  {
   "cell_type": "markdown",
   "metadata": {},
   "source": [
    "<h3>Remove CustomerID Column</h3>\n",
    "<p>The <b>customerID</b> column is useless to explain whether not the customer will churn, therefore we drop this column from the dataset.</p>"
   ]
  },
  {
   "cell_type": "code",
   "execution_count": 8,
   "metadata": {},
   "outputs": [],
   "source": [
    "# drop the customerID column from the dataset\n",
    "df_telco.drop(columns='customerID', inplace=True)"
   ]
  },
  {
   "cell_type": "markdown",
   "metadata": {},
   "source": [
    "<h3>Payment Method Denominations</h3>\n",
    "<p>As shown below, some payment method denominations contain in parenthesis the word <b>automatic</b>. These denominations are too long to be used as tick labels in visualizations. Therefore, we <b>remove this clarification in parenthesis</b> from the entries of the PaymentMethod column.</p>"
   ]
  },
  {
   "cell_type": "code",
   "execution_count": 9,
   "metadata": {},
   "outputs": [
    {
     "data": {
      "text/plain": [
       "array(['Electronic check', 'Mailed check', 'Bank transfer (automatic)',\n",
       "       'Credit card (automatic)'], dtype=object)"
      ]
     },
     "execution_count": 9,
     "metadata": {},
     "output_type": "execute_result"
    }
   ],
   "source": [
    "#unique elements of the PaymentMethod column\n",
    "df_telco.PaymentMethod.unique()"
   ]
  },
  {
   "cell_type": "code",
   "execution_count": 10,
   "metadata": {},
   "outputs": [],
   "source": [
    "# remove (automatic) from PaymentMethod names\n",
    "df_telco['PaymentMethod'] = df_telco['PaymentMethod'].str.replace(' (automatic)', '', regex=False)"
   ]
  },
  {
   "cell_type": "code",
   "execution_count": 11,
   "metadata": {},
   "outputs": [
    {
     "data": {
      "text/plain": [
       "array(['Electronic check', 'Mailed check', 'Bank transfer', 'Credit card'],\n",
       "      dtype=object)"
      ]
     },
     "execution_count": 11,
     "metadata": {},
     "output_type": "execute_result"
    }
   ],
   "source": [
    "# unique elements of the PaymentMethod column after the modification \n",
    "df_telco.PaymentMethod.unique()"
   ]
  },
  {
   "cell_type": "markdown",
   "metadata": {},
   "source": [
    "<h3>Data Visualization</h3>"
   ]
  },
  {
   "cell_type": "markdown",
   "metadata": {},
   "source": [
    "<h4>Response Variable</h4>\n",
    "<p>Below the bar plot shows the percentage of observations that corresponds to each class of the response variable : no and yes. As we can this is an imbalanaced dataset because both classes are not equally distributed among all observations, being no the majority class(73.42%).</p>\n",
    "<p>We're going to use normalized stacked bar plots to analyze the influence of each independent categorical variable in the outcome. On the other hand, we will use histograms to evaluate the influence of each independent numeric variable in the outcome.</p>"
   ]
  },
  {
   "cell_type": "code",
   "execution_count": 107,
   "metadata": {},
   "outputs": [
    {
     "data": {
      "image/png": "[encoded data removed]",
      "text/plain": [
       "<Figure size 720x432 with 1 Axes>"
      ]
     },
     "metadata": {
      "needs_background": "light"
     },
     "output_type": "display_data"
    }
   ],
   "source": [
    "# create a figure\n",
    "fig = plt.figure(figsize=(10, 6))\n",
    "ax = fig.add_subplot(111)\n",
    "\n",
    "# proportion of observation of each class\n",
    "prop_response = df_telco['Churn'].value_counts(normalize=True)\n",
    "\n",
    "# create a bar plot showing the % of churn\n",
    "prop_response.plot(kind='bar',\n",
    "                   ax=ax,\n",
    "                   color=['springgreen', 'salmon'])\n",
    "\n",
    "# add the annotations\n",
    "for p in ax.patches:\n",
    "    width = p.get_width()\n",
    "    height = p.get_height()\n",
    "    x, y = p.get_xy() \n",
    "    ax.annotate(f'{height:.0%}', (x + width/2, y + height*1.02), ha='center')\n",
    "\n",
    "# set title and labels\n",
    "ax.set_title('Proportion of observations of the response variable',\n",
    "            fontsize=18, loc='left')\n",
    "ax.set_xlabel('Churn',\n",
    "             fontsize=14)\n",
    "ax.set_ylabel('Proportion of observations',\n",
    "             fontsize=14)\n",
    "ax.tick_params(rotation='auto')\n",
    "\n",
    "\n",
    "# eliminate the frame from the plot\n",
    "spine_names = ('top', 'right', 'bottom', 'left')\n",
    "for spine_name in spine_names:\n",
    "    ax.spines[spine_name].set_visible(False)"
   ]
  },
  {
   "cell_type": "markdown",
   "metadata": {},
   "source": [
    "<h4>Demographic Information</h4>\n",
    "<p>Below we create a stacked percentage bar chart for each demogrpahic attribute - gender, SeniorCitizen, Partner, Dependents, showing the percentage of Churn for each category of the attribute.</p>"
   ]
  },
  {
   "cell_type": "code",
   "execution_count": 100,
   "metadata": {},
   "outputs": [],
   "source": [
    "def percentage_stacked_plot(columns_to_plot, super_title):\n",
    "    '''\n",
    "    Prints 100% stacked plot of the response variable\n",
    "    for independent variable of the list columns_to_plot.\n",
    "    \n",
    "    Params :\n",
    "        columns_to_plot(list of string) : Names of the variables to plot\n",
    "        super_title(string) : Super title of the visualization\n",
    "        \n",
    "    Returns :\n",
    "        None\n",
    "    '''\n",
    "    num_of_columns = 2\n",
    "    num_of_rows = math.ceil(len(columns_to_plot)/2)\n",
    "    \n",
    "    # create a fig\n",
    "    fig = plt.figure(figsize=(12, 5 * num_of_rows)) \n",
    "    fig.suptitle(super_title, fontsize=22,  y=.95)\n",
    "    \n",
    "    # loop to each column name to create a subplot\n",
    "    for index, column in enumerate(columns_to_plot, 1):\n",
    "        \n",
    "        # createthe subplot\n",
    "        ax = fig.add_subplot(num_of_rows, num_of_columns, index)\n",
    "        \n",
    "        # cal the % of observations of hte response variable for\n",
    "        # each group of the independent variable\n",
    "        prop_by_independent = pd.crosstab(df_telco[column],\n",
    "                                         df_telco['Churn']).apply(lambda x: x/x.sum()*100, axis=1)\n",
    "        \n",
    "        prop_by_independent.plot(kind='bar', ax=ax, stacked=True,\n",
    "                                rot=0, color=['springgreen', 'salmon'])\n",
    "        \n",
    "        # set the legend in the upper right corner\n",
    "        ax.legend(loc=\"upper right\", bbox_to_anchor=(0.62, 0.5, 0.5, 0.5),\n",
    "                 title='Churn', fancybox=True)\n",
    "        \n",
    "        # set title and labels\n",
    "        ax.set_title('Proportion of observations by ' + column, \n",
    "                    fontsize=16, loc='left')\n",
    "        \n",
    "        ax.tick_params(rotation='auto')\n",
    "       \n",
    "        #eliminate the frame from the plot\n",
    "        spine_names = ('top', 'right', 'bottom', 'left')\n",
    "        for spine_name in spine_names:\n",
    "            ax.spines[spine_name].set_visible(False)\n",
    "    "
   ]
  },
  {
   "cell_type": "code",
   "execution_count": 101,
   "metadata": {},
   "outputs": [
    {
     "data": {
      "image/png": "[encoded data removed]",
      "text/plain": [
       "<Figure size 864x720 with 4 Axes>"
      ]
     },
     "metadata": {
      "needs_background": "light"
     },
     "output_type": "display_data"
    }
   ],
   "source": [
    "# Demographic Column Names\n",
    "demographic_columns = ['gender', 'SeniorCitizen', 'Partner', 'Dependents']\n",
    "\n",
    "# Stacked plot of demographic columns\n",
    "percentage_stacked_plot(demographic_columns, 'Demographic Information')"
   ]
  },
  {
   "cell_type": "markdown",
   "metadata": {},
   "source": [
    "<p>As shown above, each bar category of the independent variable, and it is subdivided to show the proportion of each response class (No and Yes).</p>\n",
    "<p>We can extract <b>following conclusions</b> by analyzing <b>demogrpahic attributes</b>:\n",
    "    <li>The churn rate of <b>senior citizens</b> is almost double that of <b>young citizens</b></li>\n",
    "    <li>We do not expect <b>gender</b> to have significant predictive power. A similar percentage of churn is shown in both.</li>\n",
    "    <li>Customers with a <b>partner</b> churn less than customers with no partners</li></p>"
   ]
  },
  {
   "cell_type": "markdown",
   "metadata": {},
   "source": [
    "<h4>Customer Account Information - Categorical Variables</h4>\n",
    "<p>As we did demographic attributes, we evaluate the percentage of Churn for each category of the customer account attributes(Contract, PaperlessBilling, PaymentMethod)</p>"
   ]
  },
  {
   "cell_type": "code",
   "execution_count": 15,
   "metadata": {},
   "outputs": [
    {
     "data": {
      "image/png": "[encoded data removed]",
      "text/plain": [
       "<Figure size 864x720 with 3 Axes>"
      ]
     },
     "metadata": {
      "needs_background": "light"
     },
     "output_type": "display_data"
    }
   ],
   "source": [
    "# customer account column names\n",
    "account_columns = ['Contract', 'PaperlessBilling', 'PaymentMethod']\n",
    "\n",
    "# stacked plot of customer account columns\n",
    "percentage_stacked_plot(account_columns, 'Customer Account Information')"
   ]
  },
  {
   "cell_type": "markdown",
   "metadata": {},
   "source": [
    "<p> We can extract the <b>following conclusions</b> by analyzing <b>customer account attribtues</b>:\n",
    "    <li>Customers with <b>month-to-month contracts</b> have <b>higher churn rates</b> compared to clients with <b>yearly contacts.</b></li>\n",
    "    <li>Customers who opted for an <b>electronic check</b> as paying method are more likely to leave the company.</li>\n",
    "    <li>Customers subscriebd to <b>paperless billing</b> churn more than who are not subscribed</li></p"
   ]
  },
  {
   "cell_type": "markdown",
   "metadata": {},
   "source": [
    "<h4>Customer Account Information - Numerical Variables</h4>\n",
    "<p>The following plots show the distribution of tenure, MonthlyCharges, TotalCharges by Churn. For all numeric attributes, the distributions of both classes(No and Yes) are different which suggests that all of the attributes will be useful to determine whether or not a customer churns.</p>"
   ]
  },
  {
   "cell_type": "code",
   "execution_count": 16,
   "metadata": {},
   "outputs": [
    {
     "data": {
      "image/png": "[encoded data removed]",
      "text/plain": [
       "<Figure size 864x720 with 3 Axes>"
      ]
     },
     "metadata": {
      "needs_background": "light"
     },
     "output_type": "display_data"
    }
   ],
   "source": [
    "def histogram_plots(columns_to_plot, super_title):\n",
    "    '''\n",
    "    Prints a histogram for each independent variable of the list \n",
    "    columns_to_plot.\n",
    "    \n",
    "        Parameters:\n",
    "            columns_to_plot(list of string): Names of the variables to plot\n",
    "            super_title(string): Super title of the visualization\n",
    "        \n",
    "        Returns:\n",
    "            None\n",
    "    '''\n",
    "    # set the num of rows and columns\n",
    "    num_of_cols = 2\n",
    "    num_of_rows = math.ceil(len(columns_to_plot)/2)\n",
    "    \n",
    "    # create a figure \n",
    "    fig = plt.figure(figsize=(12, 5 * num_of_rows)) \n",
    "    fig.suptitle(super_title, fontsize=22, y=.95)\n",
    "    \n",
    "    # loop to each customer account column name to create a subplot\n",
    "    for index, column in enumerate(columns_to_plot, 1):\n",
    "        \n",
    "        # create the subplot\n",
    "        ax = fig.add_subplot(num_of_rows, num_of_cols, index)\n",
    "        \n",
    "        # histograms for each class(normalized histograms)\n",
    "        df_telco[df_telco['Churn']=='No'][column].plot(kind='hist',\n",
    "                                                      ax=ax,\n",
    "                                                      density=True,\n",
    "                                                      alpha=0.5,\n",
    "                                                      color='springgreen',\n",
    "                                                      label='No')\n",
    "        df_telco[df_telco['Churn']=='Yes'][column].plot(kind='hist',\n",
    "                                                       ax=ax,\n",
    "                                                       density=True,\n",
    "                                                       alpha=0.5, \n",
    "                                                       color='salmon',\n",
    "                                                       label='Yes')\n",
    "        \n",
    "        # set the legend in the upper right corner\n",
    "        ax.legend(loc=\"upper right\", bbox_to_anchor=(0.5, 0.5, 0.5, 0.5),\n",
    "                 title=\"Churn\", fancybox=True)\n",
    "        \n",
    "        # set the title and labels\n",
    "        ax.set_title('Distribution of ' + column + ' by churn', \n",
    "                    fontsize=16, loc='left')\n",
    "        \n",
    "        ax.tick_params(rotation='auto')\n",
    "        \n",
    "        # eliminate the frame from the plot\n",
    "        spine_names = ('top', 'right', 'bottom', 'left')\n",
    "        for spine_name in spine_names:\n",
    "            ax.spines[spine_name].set_visible(False)\n",
    "            \n",
    "# customer account column names\n",
    "account_columns_numeric = ['tenure', 'MonthlyCharges', 'TotalCharges']\n",
    "# histogram of customer account columns\n",
    "histogram_plots(account_columns_numeric, 'Customer Account Information')"
   ]
  },
  {
   "cell_type": "markdown",
   "metadata": {},
   "source": [
    "<p>We can extract the <b>following conclusions</b> by analyzing the <b>histograms above</b>:\n",
    "    <li>The churn rate tends to be larger when <b>monthly charges</b> are high.</li>\n",
    "    <li>New customers (low <b>tenure</b>) are more likely to churn.</li>\n",
    "    <li>Clients with high <b>total charges</b> are less likely to leave the company.</li></p>"
   ]
  },
  {
   "cell_type": "markdown",
   "metadata": {},
   "source": [
    "<h4>Services Information</h4>\n",
    "<p>We will evaluate the percentage of the target for each category of the service columns with stacked bar plots.</p>"
   ]
  },
  {
   "cell_type": "code",
   "execution_count": 17,
   "metadata": {},
   "outputs": [
    {
     "data": {
      "image/png": "[encoded data removed]",
      "text/plain": [
       "<Figure size 864x1800 with 9 Axes>"
      ]
     },
     "metadata": {
      "needs_background": "light"
     },
     "output_type": "display_data"
    }
   ],
   "source": [
    "# service column names\n",
    "services_columns = ['PhoneService', 'MultipleLines', \n",
    "                    'InternetService', 'OnlineSecurity',\n",
    "                    'OnlineBackup', 'DeviceProtection', \n",
    "                    'TechSupport', 'StreamingTV', \n",
    "                    'StreamingMovies']\n",
    "\n",
    "# stacked plot of services columns\n",
    "percentage_stacked_plot(services_columns, \n",
    "                        'Services Information')"
   ]
  },
  {
   "cell_type": "markdown",
   "metadata": {},
   "source": [
    "<p>We can extract the <b>following conclusions</b> by evaluating <b>services attributes</b>:\n",
    "    <li>We do not expect <b>phone attributes</b>(PhoneService and MultipleLines) to have significant predictive power. The percentage of churn for all classes in both independent variables is nearly the same.</li>\n",
    "    <li>Clients with <b>online security</b> churn less than those without it.</li>\n",
    "    <li>Customers with no <b>tech support</b> tend to churn more often than those with tech support.</li></p>\n",
    "<p>By looking at the plots above, we can identify the <b>most relevant attributes for detecting churn</b>.</p>"
   ]
  },
  {
   "cell_type": "markdown",
   "metadata": {},
   "source": [
    "<h3>Feature Importance</h3>\n",
    "<h4>Mutual Information - analysis of linear and nonlinear relationships</h4>\n",
    "<p>It measures the mutual dependency between two variables based on entropy estimations. In ML, we're interested in <b>evaluating the degree of dependency between each independent variable and the response variable</b>.</p>\n",
    "<p>Note : Higher values of mutual information show a high degree of dependency which indicates that the independent variable will be useful for predicting the target.</p>\n",
    "<p>The Scikit-Learn library has implemented mutual information in the metrics package. The code below computes the mutual information score between each categorical variable of the data set and the Churn variable.</p>"
   ]
  },
  {
   "cell_type": "code",
   "execution_count": 83,
   "metadata": {},
   "outputs": [
    {
     "name": "stdout",
     "output_type": "stream",
     "text": [
      "Contract            0.098182\n",
      "OnlineSecurity      0.064528\n",
      "TechSupport         0.062873\n",
      "InternetService     0.055394\n",
      "OnlineBackup        0.046659\n",
      "PaymentMethod       0.044423\n",
      "DeviceProtection    0.043784\n",
      "StreamingMovies     0.031918\n",
      "StreamingTV         0.031803\n",
      "PaperlessBilling    0.019119\n",
      "Dependents          0.014270\n",
      "Partner             0.011383\n",
      "MultipleLines       0.000798\n",
      "PhoneService        0.000069\n",
      "gender              0.000037\n",
      "dtype: float64\n"
     ]
    }
   ],
   "source": [
    "def compute_mutual_information(categorical_serie):\n",
    "    return mutual_info_score(categorical_serie, df_telco.Churn)\n",
    "\n",
    "# select categorical variables excluding the response variable\n",
    "categorical_variables = df_telco.select_dtypes(include=object).drop('Churn', axis=1)\n",
    "\n",
    "# compute the mutual info score btw each categorical variable\n",
    "# and the target \n",
    "feature_importance = categorical_variables.apply(compute_mutual_information).sort_values(ascending=False)\n",
    "\n",
    "# visualize feature importance\n",
    "print(feature_importance)"
   ]
  },
  {
   "cell_type": "markdown",
   "metadata": {},
   "source": [
    "<p><b>Mutual Information</b> allows us not only to better understand our data but also to <b>identify the predictor variables that are completely independent of the target</b>.</p>\n",
    "<p>As shown above, gender, PhoneService, and MultipleLines have a mutual information score really <b>close to 0</b>, meaning those variables do not have a strong relationship with the target.</p>"
   ]
  },
  {
   "cell_type": "code",
   "execution_count": 91,
   "metadata": {},
   "outputs": [
    {
     "data": {
      "image/png": "[encoded data removed]",
      "text/plain": [
       "<Figure size 800x500 with 1 Axes>"
      ]
     },
     "metadata": {
      "needs_background": "light"
     },
     "output_type": "display_data"
    }
   ],
   "source": [
    "# function to visualize the mutual information score\n",
    "def plot_mutual_information_score(scores):\n",
    "    scores = scores.sort_values(ascending=True)\n",
    "    width = np.arange(len(scores))\n",
    "    ticks = list(scores.index)\n",
    "    plt.barh(width, scores, color=\"lightblue\")\n",
    "    plt.yticks(width, ticks)\n",
    "    plt.title(\"Feature Importance(Mutual Information Scores)\")\n",
    "    \n",
    "# plot barchart for mutual information score \n",
    "plt.figure(dpi=100, figsize=(8,5))\n",
    "plot_mutual_information_score(feature_importance)"
   ]
  },
  {
   "cell_type": "markdown",
   "metadata": {},
   "source": [
    "<p>The <b>mutual information</b> extends the notion of correlation to nonlinear relationships since, unlike Pearson's correlation coefficient, this method <b>is able to detect not only linear relationships but also nonlinear ones</b>.</p>"
   ]
  },
  {
   "cell_type": "markdown",
   "metadata": {},
   "source": [
    "<h3>Feature Engineering</h3>\n",
    "<p>The process of <b>extracting features from the data and transforming them into a format that is suitable for the machine learning model.</b></p>\n",
    "<p>In this project, we need to transform both numerical and categorical variable since most of the ML algorithms require numerical values. \n",
    "    <li><b>All categorical attributes available in the dataset should be encoded into numerical labels</b> before training the model.</li> <li><b>We need to transform numeric columns into a common scale</b>.</li>"
   ]
  },
  {
   "cell_type": "markdown",
   "metadata": {},
   "source": [
    "<h4>Label Encoding</h4>\n",
    "<p>It is used to replace categorical values with numerical values. This encoding <b>replaces every category with a numerical label</b>. In this project, we use label encoding with the following binary variables : <li>gender,</li> <li>Partner,</li> <li>Dependents,</li> <li>PaperlessBilling,</li> <li>PhoneService,</li> <li>Churn</li></p>"
   ]
  },
  {
   "cell_type": "code",
   "execution_count": 18,
   "metadata": {},
   "outputs": [],
   "source": [
    "df_telco_transformed = df_telco.copy()\n",
    "\n",
    "# Label encoding (binary variables)\n",
    "label_encoding_columns = ['gender', 'Partner', 'Dependents',\n",
    "                         'PaperlessBilling', 'PhoneService',\n",
    "                         'Churn']\n",
    "\n",
    "# Encode categorical binary features using label encoding\n",
    "for column in label_encoding_columns:\n",
    "    if column == 'gender':\n",
    "        df_telco_transformed[column] = df_telco_transformed[column].map({'Female':1, 'Male':0})\n",
    "    else:\n",
    "        df_telco_transformed[column] = df_telco_transformed[column].map({'Yes':1, 'No':0})"
   ]
  },
  {
   "cell_type": "markdown",
   "metadata": {},
   "source": [
    "<h4>One-Hot Encoding</h4>\n",
    "<p>It creates a <b>new binary column for each level of the categorical variable</b>.</p>\n",
    "<p>The new column contains zeros and ones indicating the absence or presence of the category in the data. For this project, we apply one-hot encoding to the following categorical variables :\n",
    "    <li>Contract</li>\n",
    "    <li>PaymentMethod</li>\n",
    "    <li>MultipleLines</li>\n",
    "    <li>InternetServices</li>\n",
    "    <li>OnlineSecurity</li>\n",
    "    <li>OnlineBackup</li>\n",
    "    <li>DeviceProtection</li>\n",
    "    <li>TechSupport</li>\n",
    "    <li>StreamingTV</li>\n",
    "    <li>StreamingMovies</li>"
   ]
  },
  {
   "cell_type": "code",
   "execution_count": 19,
   "metadata": {},
   "outputs": [],
   "source": [
    "# one-hot encoding (categorical variables with more than two levels)\n",
    "one_hot_encoding_columns = ['MultipleLines', 'InternetService',\n",
    "                           'OnlineSecurity', 'OnlineBackup',\n",
    "                           'DeviceProtection', 'TechSupport',\n",
    "                           'StreamingTV', 'StreamingMovies',\n",
    "                           'Contract', 'PaymentMethod']\n",
    "\n",
    "# encode categorical variables with more than two levels using one-hot encoding\n",
    "df_telco_transformed = pd.get_dummies(df_telco_transformed, columns = one_hot_encoding_columns)"
   ]
  },
  {
   "cell_type": "markdown",
   "metadata": {},
   "source": [
    "<p>Note : The main drawback of this encoding is the significant increase in the dimensionality of the dataset(<b>curse of dimensionality</b>); therefore, this method should be avoided when the categorical column has a large number of unique values.</p>"
   ]
  },
  {
   "cell_type": "markdown",
   "metadata": {},
   "source": [
    "<h4>Normalization</h4>\n",
    "<p>It is a common practice in ML which consists of transforming <b>numeric columns</b> to a <b>common scale</b>.\n",
    "It transforms multiscaled data to same scale. After normalization, all variables have a <b>similar influence</b> on the model, improving the stability and performance of hte learning algorithm.</p>\n",
    "<p>For this project, we will use the min-max method to rescale the numeric columns(tenure, MonthlyCharges, TotalCharges) to a common scale. The <b>min-max approach</b> (often called <b>normalization</b>) rescales the feature to a fixed range of[0,1] by subtracting the minimum value of the feature and then dividing by the range.</p>\n",
    "<p>The features with higher values will dominate the learning process; however it does not mean those variables are more important to predict the target.</p>"
   ]
  },
  {
   "cell_type": "code",
   "execution_count": 20,
   "metadata": {},
   "outputs": [],
   "source": [
    "# min-max normalization (numeric variables)\n",
    "min_max_columns = ['tenure', 'MonthlyCharges', 'TotalCharges']\n",
    "\n",
    "# scale numerical variabels using min max scaler\n",
    "for column in min_max_columns:\n",
    "    # minimum value of the column\n",
    "    min_column = df_telco_transformed[column].min()\n",
    "    # maximum value of the column\n",
    "    max_column = df_telco_transformed[column].max()\n",
    "    # min max scaler\n",
    "    df_telco_transformed[column] = (df_telco_transformed[column] - min_column)"
   ]
  },
  {
   "cell_type": "markdown",
   "metadata": {},
   "source": [
    "<h3>Splitting the data in training and testing sets</h3>\n",
    "<p>The training set is used by the machine learning algorithm to build the model.</p>\n",
    "<p>The test set contains samples that are not part of the learning process and is used to evaluate the model's performance. It is important to assess the quality of the model using unseen data to gurantee an objective evaluation.</p>"
   ]
  },
  {
   "cell_type": "code",
   "execution_count": 21,
   "metadata": {},
   "outputs": [
    {
     "name": "stdout",
     "output_type": "stream",
     "text": [
      "Index(['gender', 'SeniorCitizen', 'Partner', 'Dependents', 'tenure',\n",
      "       'PhoneService', 'PaperlessBilling', 'MonthlyCharges', 'TotalCharges',\n",
      "       'MultipleLines_No', 'MultipleLines_No phone service',\n",
      "       'MultipleLines_Yes', 'InternetService_DSL',\n",
      "       'InternetService_Fiber optic', 'InternetService_No',\n",
      "       'OnlineSecurity_No', 'OnlineSecurity_No internet service',\n",
      "       'OnlineSecurity_Yes', 'OnlineBackup_No',\n",
      "       'OnlineBackup_No internet service', 'OnlineBackup_Yes',\n",
      "       'DeviceProtection_No', 'DeviceProtection_No internet service',\n",
      "       'DeviceProtection_Yes', 'TechSupport_No',\n",
      "       'TechSupport_No internet service', 'TechSupport_Yes', 'StreamingTV_No',\n",
      "       'StreamingTV_No internet service', 'StreamingTV_Yes',\n",
      "       'StreamingMovies_No', 'StreamingMovies_No internet service',\n",
      "       'StreamingMovies_Yes', 'Contract_Month-to-month', 'Contract_One year',\n",
      "       'Contract_Two year', 'PaymentMethod_Bank transfer',\n",
      "       'PaymentMethod_Credit card', 'PaymentMethod_Electronic check',\n",
      "       'PaymentMethod_Mailed check'],\n",
      "      dtype='object')\n",
      "Churn\n"
     ]
    }
   ],
   "source": [
    "# select independent variables\n",
    "X = df_telco_transformed.drop(columns='Churn')\n",
    "\n",
    "# select dependent variables\n",
    "y = df_telco_transformed.loc[:, 'Churn']\n",
    "\n",
    "# prove that the variables were selected correctly\n",
    "print(X.columns)\n",
    "print(y.name)"
   ]
  },
  {
   "cell_type": "code",
   "execution_count": 36,
   "metadata": {},
   "outputs": [],
   "source": [
    "# Split the data in training and testing sets\n",
    "X_train, X_test, y_train, y_test = train_test_split(X, \n",
    "                                                    y, \n",
    "                                                    test_size=0.25,\n",
    "                                                    random_state=40, \n",
    "                                                    shuffle=True)"
   ]
  },
  {
   "cell_type": "markdown",
   "metadata": {},
   "source": [
    "<h3>Assessing Multiple Algorithms</h3>\n",
    "<p><b>Algorithm selection is a key challenge in any ML project</b> since there is not an algorithm that is the best across all projects.</p>\n",
    "<p>Generally, we need to evaluate a set of potential candidates and select for further evaluation those that provide better performance.</p>\n",
    "<p>For this project, we compare <b>5 different algorithms</b>:\n",
    "    <li>K Nearest Neighbors</li>\n",
    "    <li>Logistic Regression</li>\n",
    "    <li>Support Vector Machines</li>\n",
    "    <li>Random Forest</li>\n",
    "    <li>Gradient Boosting</li></p>"
   ]
  },
  {
   "cell_type": "code",
   "execution_count": 68,
   "metadata": {},
   "outputs": [],
   "source": [
    "def create_models(seed=2):\n",
    "    '''\n",
    "        Create a list of ML models\n",
    "            Parameters : \n",
    "                seed (integer) : random seed of the models\n",
    "            Returns :\n",
    "                models (list) : list containing the models\n",
    "    '''\n",
    "    \n",
    "    models = []\n",
    "    models.append(('k_nearest_neighbors', KNeighborsClassifier()))\n",
    "    models.append(('logistic_regression', LogisticRegression(max_iter=1000, random_state=seed)))\n",
    "    models.append(('support_vector_machines', SVC(random_state=seed)))\n",
    "    models.append(('random_forest', RandomForestClassifier(random_state=seed)))\n",
    "    models.append(('gradient_boosting', GradientBoostingClassifier(random_state=seed)))\n",
    "    return models\n",
    "\n",
    "# create a list with all the algorithms we are going to assess\n",
    "models = create_models()"
   ]
  },
  {
   "cell_type": "code",
   "execution_count": 69,
   "metadata": {},
   "outputs": [
    {
     "name": "stdout",
     "output_type": "stream",
     "text": [
      "Classifier: k_nearest_neighbors, Accuracy: 0.7571103526734926)\n",
      "Classifier: logistic_regression, Accuracy: 0.7969283276450512)\n",
      "Classifier: support_vector_machines, Accuracy: 0.745164960182025)\n",
      "Classifier: random_forest, Accuracy: 0.7713310580204779)\n",
      "Classifier: gradient_boosting, Accuracy: 0.7963594994311718)\n"
     ]
    }
   ],
   "source": [
    "# test the accuracy of each model using default hyperparameters\n",
    "results = []\n",
    "names = []\n",
    "scoring = 'accuracy'\n",
    "for name, model in models:\n",
    "    # fit the model with the training data\n",
    "    model.fit(X_train, y_train).predict(X_test)\n",
    "    # make predictions with the testing data\n",
    "    predictions = model.predict(X_test)\n",
    "    # calculate accuracy \n",
    "    accuracy = accuracy_score(y_test, predictions)\n",
    "    # append the model name and the accuracy to the lists\n",
    "    results.append(accuracy)\n",
    "    names.append(name)\n",
    "    # print classifier accuracy\n",
    "    print('Classifier: {}, Accuracy: {})'.format(name, accuracy))"
   ]
  },
  {
   "cell_type": "markdown",
   "metadata": {},
   "source": [
    "<p>Note : We've trained all the algorithms using the default hyperparameters. The accuracy of ML algorithms is highly sensistive to the hyperparameters chosen for training the model. A more in-depth analysis will include an evaluation of a wider range of hyperparameters before choosing a model(or models) for hyperparameter tuning. For this project, we ill only further evaluate the model that presents higher accuracy using the default hyperparameters. As shown above, this corresponds to the <b>gradient boosting model</b> which shows an accuracy of nearly 80%.</p>"
   ]
  },
  {
   "cell_type": "markdown",
   "metadata": {},
   "source": [
    "<h3>Gradient Boosting</h3>\n",
    "<p>It is a very popular ML <b>ensemble method</b> based on <b>sequential training</b> of multiple models to make predictions. You make a model using a randome sample of your original data, after fitting the model, you make predictions and compute the residuals of your model. <b>The residuals are the difference betweeb the actual values and the predictions of the model</b>. Then, you train a new tree based on the residuals of the previous tree, calculating again the residuals of this new model. We repeat this process until we reach a threshold(residual close to 0), meaning there is a very low difference between the actual and predicted values. Finally, <b>you take a sum of all model forecasts</b>(prediction of the data and predictions of the error) to make a final prediction.</p>\n",
    "\n",
    "<p> We can easily build <b>gradident boosting classifier</b> with Scikit-Learn using the GradientBoostingClassifier class from the sklearn.ensemble module. After <b>creating the model</b>, we need to <b>train it</b>(using the .fit method) and <b>tests its performance</b> by comparing the predictions(.predict method) witht he actual values, as you can see in the above code.</p>\n",
    "\n",
    "<p>As shown in the <b>Scikit-Learn documentation</b> the GradientBoostingClassifier has <b>multiple hyperparameters</b>; some of them are listed below:\n",
    "    <li>learning_rate : the contribution of each tree to the final prediction.</li>\n",
    "    <li>n_estimators : the num of decision trees to perform(boosting stages)</li>\n",
    "    <li>max_depth : the max depth of the individual regression estimators.</li>\n",
    "    <li>max_features : the num of features to consider when looking for the best split.</li>\n",
    "    <li>min_samples_split : the minimum num of samples required to split an internal node.</li>"
   ]
  },
  {
   "cell_type": "markdown",
   "metadata": {},
   "source": [
    "<h3>Hyperparameter Tuning</h3>\n",
    "<p>The <b>selection of hyperparameters</b> consists of testing the performance of the model against different combinations of hyperparameters, selecting those that perform best according to a <b>chosen metric</b> and a <b>validation method</b>.</p>\n",
    "\n",
    "<p>For hyperparameter tuning, <b>we need to split our training data again into a set for training and a set for testing</b> the hyperparameters(often called validation set). It is a very common practice to use <b>k-fold cross-validation for hyperparameter tuning</b>. The training set is divided again into <b>k equal-sized</b> samples, 1 sample is used for testing and the remaining k-1 samples are used for training the model, repeating the process k times. Then, the k evaluation metrics are averaged to produce a single estimator.</p>\n",
    "\n",
    "<p>It is important to stress that <b>the validation set is used for hyperparameter selection and not for evaluating the final performance of our model</b>.</p>\n",
    "\n",
    "<p>There are multiple techniques to find the best hyperparameters for a model. The most popular methods are - <b>grid search, random search, bayesian optimization</b>. Grid search test all combinations of hyperparameters and select the best performing one, it can be really time-consuming method, particularly when the num of hyperparameters and values to try are really high.</p>\n",
    "\n",
    "<p>In <b>random search</b>, you specify a grid of hyperparameters, and <b>random combinations are selected</b> where each combination of hyperparameters has an equal chance of being sampled.This approach is much more computationally efficient than trying all combinations; however, it also has some disadvantages. The main drawback of <b>random search</b> is that <b>not all areas of the grid are evenly covered</b>, especially when the number of combinations selected from the grid is low.</p>\n",
    "\n",
    "<p>We can implement <b>random search</b> in Scikit-Learn using the RandomSeachCV class from the sklearn.model_selection package. First of all, we specify <b>the grid of hyperparameter values</b> using a dictionary(grid_parameters) where the <b>keys</b> represent the <b>hyperparameters</b> and the <b>values</b> are the <b>set of options</b> we want to evaluate. Then, we define the RandomizedSearchCV object for trying different random combinations from this grid. The num of hyperparameter combinations that are sampled is defined in the n_iter parameter. Naturally, increasing n_iter will lead in most cases to more accurate results, since more combinations are sampled; however, on many occasions, the improvement in performance won't be significant.</p>"
   ]
  },
  {
   "cell_type": "code",
   "execution_count": 73,
   "metadata": {},
   "outputs": [
    {
     "name": "stdout",
     "output_type": "stream",
     "text": [
      "{'n_estimators': 110, 'min_samples_split': 5, 'max_features': 'log2', 'max_depth': 3}\n"
     ]
    }
   ],
   "source": [
    "# define the paraneter grid\n",
    "grid_parameters = {'n_estimators': [80, 90, 100, 110, 115, 120],\n",
    "                   'max_depth': [3, 4, 5, 6],\n",
    "                   'max_features': [None, 'auto', 'sqrt', 'log2'], \n",
    "                   'min_samples_split': [2, 3, 4, 5]}\n",
    "\n",
    "# define the RandomizedSearchCV class for trying different parameter combinations\n",
    "random_search = RandomizedSearchCV(estimator=GradientBoostingClassifier(),\n",
    "                                   param_distributions=grid_parameters,\n",
    "                                   cv=5,\n",
    "                                   n_iter=150,\n",
    "                                   n_jobs=-1)\n",
    "\n",
    "# fitting the model for random search\n",
    "random_search.fit(X_train, y_train)\n",
    "\n",
    "# print best parameter after tuning\n",
    "print(random_search.best_params_)"
   ]
  },
  {
   "cell_type": "markdown",
   "metadata": {},
   "source": [
    "<h3>Performance of the model</h3>\n",
    "<p>The last step of <b>the ML process</b> is to check the <b>performance of the model</b>(best hyperparameters) by using the confusion matrix and some evaluation metrics.</p>"
   ]
  },
  {
   "cell_type": "markdown",
   "metadata": {},
   "source": [
    "<h4>Confusion Metrics</h4>\n",
    "<p>It is also known as the error matrix, is used to <b>evaluate the performance of a ML model</b> by examining the number of observations that are correctly and incorrectly classified.</p>\n",
    "<p><b>Each column of the matrix contains the predicted classes while each row represents the actual classes or vice versa.</b></p>\n",
    "<p>In a perfect classification, the confusion matrix will be all zeros except for the diagonal. <b>All the elements out of the main diagonal represent misclassifications.</b> It is important to bear in mind the confusion matrix allows us to observe patterns of misclassification(which classes and to which extend they were incorrectly classified).\n",
    "<p>In <b>binary classification problems</b>, the <b>confusion matrix</b> is a <b>2-by-2 matrix</b> composed of 4 elements:\n",
    "    <li><b>TP(True Positive)</b> : number of patients with spine problems that are correctly classified as sick.</li>\n",
    "    <li><b>TN(True Negative)</b> : number of patients without pathologies who are correctly classified as healthy.</li>\n",
    "    <li><b>FP(False Positive)</b> : number of healthy patients that are worngly classified as sick.</li>\n",
    "    <li><b>FN(False Negative)</b> : number of patients with spine diseases that are misclassified as healthy.</li>\n",
    "    \n",
    "<p><b>Now that the model is trained, it is time to evaluate its performance using the testing set.</b></p>\n",
    "\n",
    "<p>First we use the previous model(gradient boosting classifier with best hyperparameters) to predict the class labels of the testing data(with the predict method). Then, we construct the confusion matrix using the confusion_matrix function from the sklearn.metrics package to check which observations were properly classified. The output is a NUmpy array where <b>the rows represent the true values</b> and <b>the columns the predicted classes</b>.</p>"
   ]
  },
  {
   "cell_type": "code",
   "execution_count": 77,
   "metadata": {},
   "outputs": [
    {
     "data": {
      "text/plain": [
       "array([[1154,  156],\n",
       "       [ 192,  256]])"
      ]
     },
     "execution_count": 77,
     "metadata": {},
     "output_type": "execute_result"
    }
   ],
   "source": [
    "# make the predictions\n",
    "random_search_predictions = random_search.predict(X_test)\n",
    "\n",
    "# construct the confusion matrix\n",
    "confusion_matrix = confusion_matrix(y_test, random_search_predictions)\n",
    "\n",
    "# visualize the confusion matrix\n",
    "confusion_matrix"
   ]
  },
  {
   "cell_type": "markdown",
   "metadata": {},
   "source": [
    "<p>Note : As shown above, 1410 observations of the testing data were correctly classified by the model(1154 true negatives and 256 true positives). On the contrary, we can observe 356 misclassifications (156 false positives and 192 false negatives).</p>"
   ]
  },
  {
   "cell_type": "markdown",
   "metadata": {},
   "source": [
    "<h3>Evaluation Metrics</h3>\n",
    "<p>Evaluating the quality of the model is a fundamental part of ML process. The most used <b>performance evaluation metrics</b> are calculated based on the elements of the confusion matrix.\n",
    "    <li>Accuracy : It represents the proportion of predictions that were correctly classified. Accuracy is the most commonly used evaluation metric; however, it is important to bear in mind that accuracy can be misleading when working with imbalanced datasets.</li>\n",
    "    <li>Sensitivity : It represents the proportion of positive samples (diseased patients) that are identified as such.</li>\n",
    "    <li>Specificity : It represents the proportion of negative samples (healthy patients) that are identified as such.</li>\n",
    "    <li>Precision : It represents the proportion of positive predictions that are actually correct.</li>\n",
    "We can calculate the evaluation metrics manually using the numbers of the confusion matrix. Alternatively, Scikit-learn has already implemented the function classification_report that provides a <b>a summary of the key evaluation metrics</b>. The classification report contains the precision, sensitivity, f1-score, and support(num of samples) achieved for each class."
   ]
  },
  {
   "cell_type": "code",
   "execution_count": 80,
   "metadata": {},
   "outputs": [
    {
     "name": "stdout",
     "output_type": "stream",
     "text": [
      "              precision    recall  f1-score   support\n",
      "\n",
      "           0       0.86      0.88      0.87      1310\n",
      "           1       0.62      0.57      0.60       448\n",
      "\n",
      "    accuracy                           0.80      1758\n",
      "   macro avg       0.74      0.73      0.73      1758\n",
      "weighted avg       0.80      0.80      0.80      1758\n",
      "\n"
     ]
    }
   ],
   "source": [
    "# print classification report\n",
    "print(classification_report(y_test, random_search_predictions))"
   ]
  },
  {
   "cell_type": "markdown",
   "metadata": {},
   "source": [
    "<p>As shown above, we obtain a <b>sensitivity</b> of 0.57(192/(192+256)) and a specificity of 0.88(1154/(1154+156)). The model obtained predicts more accurately customers that do not churn. This should not surprise us at all, since <b>gradient boosting classifiers are usually biased toward the classes with more observations.</b>"
   ]
  },
  {
   "cell_type": "code",
   "execution_count": 81,
   "metadata": {},
   "outputs": [
    {
     "data": {
      "text/plain": [
       "0.8020477815699659"
      ]
     },
     "execution_count": 81,
     "metadata": {},
     "output_type": "execute_result"
    }
   ],
   "source": [
    "# print the accuracy of the model\n",
    "accuracy_score(y_test, random_search_predictions)"
   ]
  },
  {
   "cell_type": "markdown",
   "metadata": {},
   "source": [
    "<h3>Drawing Conclusions</h3>\n",
    "<p>We have walked through a complete end-to-end machine learning project using the <b>Telco customer Churn</b> dataset. We started by cleaning the data and analyzing it with visualization. Then, to be able to build a machine learning model, we transformed the categorical data into numeric variables (feature engineering). After transforming the data, we tried 6 different machine learning algorithms using default parameters. Finally, we tuned the hyperparameters of the <b>Gradient Boosting Classifier</b> (best performance model) for model optimization, obtaining an <b>accuracy of nearly 80%</b>. "
   ]
  }
 ],
 "metadata": {
  "kernelspec": {
   "display_name": "Python 3",
   "language": "python",
   "name": "python3"
  },
  "language_info": {
   "codemirror_mode": {
    "name": "ipython",
    "version": 3
   },
   "file_extension": ".py",
   "mimetype": "text/x-python",
   "name": "python",
   "nbconvert_exporter": "python",
   "pygments_lexer": "ipython3",
   "version": "3.7.3"
  }
 },
 "nbformat": 4,
 "nbformat_minor": 2
}
